{
  "nbformat": 4,
  "nbformat_minor": 0,
  "metadata": {
    "colab": {
      "provenance": []
    },
    "kernelspec": {
      "name": "python3",
      "display_name": "Python 3"
    },
    "language_info": {
      "name": "python"
    }
  },
  "cells": [
    {
      "cell_type": "markdown",
      "source": [
        "Image Preprocessing"
      ],
      "metadata": {
        "id": "Q7GFk5bdpQ1U"
      }
    },
    {
      "cell_type": "code",
      "source": [
        "from tensorflow.keras.preprocessing.image import ImageDataGenerator"
      ],
      "metadata": {
        "id": "3LWfwG8OpS01"
      },
      "execution_count": 1,
      "outputs": []
    },
    {
      "cell_type": "code",
      "source": [
        "train_datagen=ImageDataGenerator(rescale=1./255,horizontal_flip=True,vertical_flip=True,zoom_range=0.2)"
      ],
      "metadata": {
        "id": "oWbHGay1pdCE"
      },
      "execution_count": 2,
      "outputs": []
    },
    {
      "cell_type": "code",
      "source": [
        "test_datagen=ImageDataGenerator(rescale=1./255)"
      ],
      "metadata": {
        "id": "MxvlPrAqpdq2"
      },
      "execution_count": 3,
      "outputs": []
    },
    {
      "cell_type": "code",
      "source": [
        "x_train = train_datagen.flow_from_directory(r\"/content/drive/MyDrive/IBM project/training_set\",target_size=(64,64),class_mode=\"categorical\",batch_size=30)"
      ],
      "metadata": {
        "colab": {
          "base_uri": "https://localhost:8080/"
        },
        "id": "c96yinJGpref",
        "outputId": "f8bfd816-a6c3-40cc-c281-d7fcacb4a62d"
      },
      "execution_count": 6,
      "outputs": [
        {
          "output_type": "stream",
          "name": "stdout",
          "text": [
            "Found 15130 images belonging to 9 classes.\n"
          ]
        }
      ]
    },
    {
      "cell_type": "code",
      "source": [
        "x_test = test_datagen.flow_from_directory(r\"/content/drive/MyDrive/IBM project/test_set\",target_size=(64,64),class_mode=\"categorical\",batch_size=30)"
      ],
      "metadata": {
        "colab": {
          "base_uri": "https://localhost:8080/"
        },
        "id": "0fC9v49up4ET",
        "outputId": "d9dc2808-a151-4315-a43e-10b3d1aa979b"
      },
      "execution_count": 7,
      "outputs": [
        {
          "output_type": "stream",
          "name": "stdout",
          "text": [
            "Found 1035 images belonging to 9 classes.\n"
          ]
        }
      ]
    },
    {
      "cell_type": "markdown",
      "source": [
        "Model Building"
      ],
      "metadata": {
        "id": "TTViRrFkqSxo"
      }
    },
    {
      "cell_type": "code",
      "source": [
        "from keras.models import Sequential \n",
        "from keras.layers import Dense\n",
        "from keras.layers import Convolution2D\n",
        "from keras.layers import MaxPooling2D\n",
        "from keras.layers import Dropout\n",
        "from keras.layers import Flatten"
      ],
      "metadata": {
        "id": "JBSR1Zu4qVDh"
      },
      "execution_count": 8,
      "outputs": []
    },
    {
      "cell_type": "code",
      "source": [
        "model=Sequential()"
      ],
      "metadata": {
        "id": "6wXvg7TxqaSi"
      },
      "execution_count": 9,
      "outputs": []
    },
    {
      "cell_type": "code",
      "source": [
        "model.add(Convolution2D(32,(3,3),activation=\"relu\",input_shape=(64,64,3)))"
      ],
      "metadata": {
        "id": "Qr3PNXTpqae-"
      },
      "execution_count": 10,
      "outputs": []
    },
    {
      "cell_type": "code",
      "source": [
        "model.add(MaxPooling2D(pool_size=(2,2)))"
      ],
      "metadata": {
        "id": "c_WqMC7UqgGL"
      },
      "execution_count": 11,
      "outputs": []
    },
    {
      "cell_type": "code",
      "source": [
        "model.add(Flatten())"
      ],
      "metadata": {
        "id": "W26V4dLVqiRF"
      },
      "execution_count": 12,
      "outputs": []
    },
    {
      "cell_type": "code",
      "source": [
        "model.add(Dense(200,activation='relu'))\n",
        "model.add(Dense(9,activation=\"softmax\"))"
      ],
      "metadata": {
        "id": "JelsoFfTqkdg"
      },
      "execution_count": 13,
      "outputs": []
    },
    {
      "cell_type": "code",
      "source": [
        "model.compile(loss=\"categorical_crossentropy\",metrics=[\"accuracy\"],optimizer='adam')"
      ],
      "metadata": {
        "id": "n5s02VESqkg_"
      },
      "execution_count": 14,
      "outputs": []
    },
    {
      "cell_type": "code",
      "source": [
        "len(x_train)"
      ],
      "metadata": {
        "colab": {
          "base_uri": "https://localhost:8080/"
        },
        "id": "2xNKsVVUqtqt",
        "outputId": "21a2160c-1784-425d-c97b-004449cc1a91"
      },
      "execution_count": 15,
      "outputs": [
        {
          "output_type": "execute_result",
          "data": {
            "text/plain": [
              "505"
            ]
          },
          "metadata": {},
          "execution_count": 15
        }
      ]
    },
    {
      "cell_type": "code",
      "source": [
        "len(x_test)"
      ],
      "metadata": {
        "colab": {
          "base_uri": "https://localhost:8080/"
        },
        "id": "8nsMfrsiqtuH",
        "outputId": "cd598202-ea78-4d4a-a5b0-8bc6d515c9eb"
      },
      "execution_count": 16,
      "outputs": [
        {
          "output_type": "execute_result",
          "data": {
            "text/plain": [
              "35"
            ]
          },
          "metadata": {},
          "execution_count": 16
        }
      ]
    },
    {
      "cell_type": "code",
      "source": [
        "model.fit(x_train,epochs=10,validation_data=x_test,steps_per_epoch=len(x_train)//10,validation_steps=len(x_test))"
      ],
      "metadata": {
        "colab": {
          "base_uri": "https://localhost:8080/"
        },
        "id": "ko8QinAQq1Hu",
        "outputId": "d7e86d73-9828-4c51-de40-6a4ea430bfc1"
      },
      "execution_count": 20,
      "outputs": [
        {
          "output_type": "stream",
          "name": "stdout",
          "text": [
            "Epoch 1/10\n",
            "50/50 [==============================] - 407s 8s/step - loss: 0.1036 - accuracy: 0.9707 - val_loss: 0.1421 - val_accuracy: 0.9362\n",
            "Epoch 2/10\n",
            "50/50 [==============================] - 75s 1s/step - loss: 0.0937 - accuracy: 0.9767 - val_loss: 0.0786 - val_accuracy: 0.9768\n",
            "Epoch 3/10\n",
            "50/50 [==============================] - 74s 1s/step - loss: 0.0833 - accuracy: 0.9740 - val_loss: 0.0380 - val_accuracy: 0.9894\n",
            "Epoch 4/10\n",
            "50/50 [==============================] - 65s 1s/step - loss: 0.0493 - accuracy: 0.9853 - val_loss: 0.0354 - val_accuracy: 0.9913\n",
            "Epoch 5/10\n",
            "50/50 [==============================] - 56s 1s/step - loss: 0.0514 - accuracy: 0.9851 - val_loss: 0.0484 - val_accuracy: 0.9913\n",
            "Epoch 6/10\n",
            "50/50 [==============================] - 58s 1s/step - loss: 0.0661 - accuracy: 0.9813 - val_loss: 0.0597 - val_accuracy: 0.9894\n",
            "Epoch 7/10\n",
            "50/50 [==============================] - 50s 1s/step - loss: 0.0488 - accuracy: 0.9872 - val_loss: 0.0888 - val_accuracy: 0.9662\n",
            "Epoch 8/10\n",
            "50/50 [==============================] - 48s 958ms/step - loss: 0.0492 - accuracy: 0.9820 - val_loss: 0.0670 - val_accuracy: 0.9874\n",
            "Epoch 9/10\n",
            "50/50 [==============================] - 35s 709ms/step - loss: 0.0599 - accuracy: 0.9820 - val_loss: 0.0129 - val_accuracy: 0.9971\n",
            "Epoch 10/10\n",
            "50/50 [==============================] - 39s 770ms/step - loss: 0.0582 - accuracy: 0.9770 - val_loss: 0.1378 - val_accuracy: 0.9314\n"
          ]
        },
        {
          "output_type": "execute_result",
          "data": {
            "text/plain": [
              "<keras.callbacks.History at 0x7fdb103a76d0>"
            ]
          },
          "metadata": {},
          "execution_count": 20
        }
      ]
    },
    {
      "cell_type": "code",
      "source": [
        "model.save(\"aslpng.h5\")"
      ],
      "metadata": {
        "id": "UaDRnRpIrN3s"
      },
      "execution_count": 21,
      "outputs": []
    }
  ]
}